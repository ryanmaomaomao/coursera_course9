{
 "cells": [
  {
   "cell_type": "markdown",
   "metadata": {},
   "source": [
    "# Report"
   ]
  },
  {
   "cell_type": "markdown",
   "metadata": {},
   "source": [
    "## 1 Introduction"
   ]
  },
  {
   "cell_type": "markdown",
   "metadata": {},
   "source": [
    "I want to find the best apartment location for coffee lovers that drink coffee every work day. So the apartment location should be:\n",
    "1. has most coffe shop in its neihborhood, and\n",
    "2. has smallest distance of possible sets to where the poeple work, which I assume is YYZ (Toronto Pearson Airport)."
   ]
  },
  {
   "cell_type": "markdown",
   "metadata": {},
   "source": [
    "## 2 Data"
   ]
  },
  {
   "cell_type": "markdown",
   "metadata": {},
   "source": [
    "1. List of neihborhoods in Toronto (by scraping)\n",
    "2. Lattitude and longittude of these neihborhoods (by geocoder api)\n",
    "2. coffee shops in each neighborhood using search query in Foursquare (by foursqaure API).\n",
    "2. calculation the distance between apartments in that neighborhood and YVR and find the smallest"
   ]
  },
  {
   "cell_type": "code",
   "execution_count": null,
   "metadata": {},
   "outputs": [],
   "source": []
  }
 ],
 "metadata": {
  "kernelspec": {
   "display_name": "Python 3",
   "language": "python",
   "name": "python3"
  },
  "language_info": {
   "codemirror_mode": {
    "name": "ipython",
    "version": 3
   },
   "file_extension": ".py",
   "mimetype": "text/x-python",
   "name": "python",
   "nbconvert_exporter": "python",
   "pygments_lexer": "ipython3",
   "version": "3.7.6"
  }
 },
 "nbformat": 4,
 "nbformat_minor": 4
}
